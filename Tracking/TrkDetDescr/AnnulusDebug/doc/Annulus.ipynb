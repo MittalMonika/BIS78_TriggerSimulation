{
 "cells": [
  {
   "cell_type": "code",
   "execution_count": null,
   "metadata": {},
   "outputs": [],
   "source": [
    "# set this to the path where this notebook is located\n",
    "package_dir = \"/atlas/scratch0/pagessin/dev/annulus_21.9/athena/Tracking/TrkDetDescr/AnnulusDebug\"\n",
    "# set this to the path where you ran the AnnulusTest algorithm from\n",
    "run_dir = \"/atlas/scratch0/pagessin/dev/annulus_21.9/run_2018-12-07\"\n",
    "# enable / disable printing of c++ code, code comments\n",
    "do_print_cpp = False"
   ]
  },
  {
   "cell_type": "code",
   "execution_count": null,
   "metadata": {},
   "outputs": [],
   "source": [
    "from IPython.display import Image\n",
    "import os\n",
    "def img(filename, *args, **kwargs): \n",
    "    return Image(filename=os.path.join(package_dir, \"doc\", filename), *args, **kwargs)"
   ]
  },
  {
   "cell_type": "markdown",
   "metadata": {},
   "source": [
    "# ITk Strip Endcap module geometry\n",
    "\n",
    "The upgraded InnerTracker will feature a newly designed strip-based silicon tracking geometry. For the barrel, the overall module shape stays the same, for the endcaps, the shape of the module departs from the symmetric design, which is rotated by a stereo angle to allow 2D measurements. \n",
    "The new strip modules have a built-in stereo angle. This manifests itself in an irregular shape, where the radial and the angular bounds **do not share the same origin**.\n",
    "\n",
    "<sup>[1](#petalscds)</sup>"
   ]
  },
  {
   "cell_type": "code",
   "execution_count": null,
   "metadata": {
    "scrolled": false
   },
   "outputs": [],
   "source": [
    "img(\"petal1.png\", width=300)"
   ]
  },
  {
   "cell_type": "markdown",
   "metadata": {},
   "source": [
    "\n",
    "The current implementation of this shape uses a rotated cartesian, as seen in the image above. This allows trivially defining the radial bounds by simple circles, but requires the angular sides to be parametrized lines with an offset from the origin of the coordinate system. \n",
    "\n",
    "The approach causes difficulties when considering measurement covariances in the local frame of the module. The underlying measurement uncertainty is caused by the physical size of the semiconductor segmentation, the strips. It is given be the length of the the strips, and their pitch in $\\phi$. In the cartesian implementation, the strip pitch is evaluated in the center, as if the strips were straight, and then scaled up and rotated, to account for larger or smaller (cartesian) strip pitch and effective stereo angle along the $y$-axis.\n",
    "\n",
    "Using a polar coordinate system as the local frame, this problem goes away. The covariance defined by the semiconductor geometry is trivially\n",
    "\n",
    "\\begin{equation}\n",
    "C = \\frac{1}{12}\\left[\\begin{array}{cc}\n",
    "p_{r}^2 & 0 \\\\\n",
    "0 & p_\\phi^2\n",
    "\\end{array}\\right]\n",
    "\\end{equation}\n",
    "\n",
    "with the strip pitches $p_r$ and $p_\\phi$. During a fit, track parameters can then simply be transformed into the local strip polar coordinate frame, and the residual and $\\chi^2$ calculation becomes trivial. In principle, this could even become a pure 1D measurment, dropping the $r$ component, and using only the $\\phi$ angle, and corresponding pitch induced covariance.\n",
    "\n",
    "This requires the local frame to be aligned with strip coordinate system. The radial bounds, however, are not defined with respect to this system. To remedy this, the cartesian offset between the two coordinate system origins is identified:"
   ]
  },
  {
   "cell_type": "code",
   "execution_count": null,
   "metadata": {},
   "outputs": [],
   "source": [
    "img(\"annulus.png\", width=300)"
   ]
  },
  {
   "cell_type": "markdown",
   "metadata": {},
   "source": [
    "The coordinate system around which the concentric radial inner and outer bounds are defined is subsequently called the **MODULE SYSTEM**, while the point where the angular straight-line boundaries of the shape intersect is the origin of the **STRIP SYSTEM**.\n",
    "\n",
    "This allows conversion between coordinate systems by shifting the origin in the cartesian frame. A method to directly convert the $r$ coordinate of a point from the strip system to the module system, without explicitly converting to cartesian coordinates in-between is described below.\n",
    "\n",
    "\n",
    "<a name=\"petalscds\">1</a>: Building a Stereo-angle into strip-sensors for the ATLAS-Upgrade Inner-Tracker Endcaps"
   ]
  },
  {
   "cell_type": "markdown",
   "metadata": {},
   "source": [
    "Some necessary imports for use below:"
   ]
  },
  {
   "cell_type": "code",
   "execution_count": null,
   "metadata": {},
   "outputs": [],
   "source": [
    "%matplotlib inline\n",
    "import shapely\n",
    "from matplotlib import pyplot as plt\n",
    "import matplotlib as mpl\n",
    "from shapely.geometry import LinearRing, LineString, Polygon, Point, MultiLineString, MultiPoint\n",
    "from shapely.ops import linemerge, polygonize, transform\n",
    "from shapely import affinity\n",
    "from IPython.display import display, Markdown, Latex, Math, display_markdown\n",
    "from descartes import PolygonPatch\n",
    "import numpy as np\n",
    "from datetime import datetime\n",
    "from IPython.core.pylabtools import figsize\n",
    "from math import pi, sin, cos, atan2, sqrt, acos, asin, ceil\n",
    "import pandas as pd\n",
    "import sympy as sp\n",
    "from sympy.geometry import Ray, Circle, intersection\n",
    "import sympy.matrices\n",
    "from tqdm import tqdm_notebook as tqdm\n",
    "sp.init_printing()"
   ]
  },
  {
   "cell_type": "markdown",
   "metadata": {},
   "source": [
    "# Helper functions and classes\n",
    "\n",
    "This defines some helpers that are used for linear algebra manipulation below, and pretty printing of latex and c++ code."
   ]
  },
  {
   "cell_type": "code",
   "execution_count": null,
   "metadata": {},
   "outputs": [],
   "source": [
    "%run -i $package_dir/doc/notebook_helpers.py\n",
    "\n",
    "def print_cpp(*args):\n",
    "    if do_print_cpp:\n",
    "        s = \" \".join(map(str, args))\n",
    "        display(Markdown(\"```cpp\\n%s\\n```\"%s))\n",
    "        \n",
    "def jacobian(fs, vs):\n",
    "    def gen(i, j):\n",
    "        return sp.Derivative(fs[i], vs[j])\n",
    "    m = sp.Matrix(len(fs), len(vs), gen)\n",
    "    return m\n",
    "\n",
    "def save(fig, filename):\n",
    "    fig.tight_layout()\n",
    "    fig.savefig(os.path.join(package_dir, \"doc\", filename))"
   ]
  },
  {
   "cell_type": "markdown",
   "metadata": {},
   "source": [
    "# Jacobians for covariance transformation\n",
    "\n",
    "For covariance based inside checks of the bounds, converting covariances matrices into the two coordinate systems **STRIP** and **MODULE** is required. The input is assumed to be given in the **STRIP** coordinate system.\n",
    "This requires a Jacobian, which can be applied to the covariance matrix to transform it. The covariance $\\hat\\sigma$ transforms as \n",
    "\n",
    "$$\\hat\\sigma' = J \\hat\\sigma J^T$$\n",
    "\n",
    "$J$ is calculated by building an expression converting coordinates from **STRIP-PC** to **STRIP-XY** to **MODULE-XY** and finally to **MODULE-PC**, and then calculating the various derivatives. The Jacobian has to be calculated at a given point in order to be correct.\n",
    "There is an additional optional rotation $\\Delta\\phi$."
   ]
  },
  {
   "cell_type": "markdown",
   "metadata": {},
   "source": [
    "Set up symbols $x$, $y$ as local cartesian coordinates. The circle in polar coordinates is then:"
   ]
  },
  {
   "cell_type": "code",
   "execution_count": null,
   "metadata": {},
   "outputs": [],
   "source": [
    "x, y, vx, vy = sp.symbols('x y v_x, v_y')\n",
    "vx, vy = sp.sqrt(x**2 + y**2), 2*sp.atan( y / (sp.sqrt(x**2 + y**2) + x) )\n",
    "vec = sp.Matrix([vx, vy])\n",
    "\n",
    "latex(r\"$\\vec v = %s$\", vec)\n",
    "print_cpp(\"// \" & (\"v = \" + LineArray(pretty(sp.Matrix(sp.symbols(\"r' phi'\")))) + \" = \" + LineArray(pretty(vec))))"
   ]
  },
  {
   "cell_type": "markdown",
   "metadata": {},
   "source": [
    "The Jacobian $J$ is generically:"
   ]
  },
  {
   "cell_type": "code",
   "execution_count": null,
   "metadata": {},
   "outputs": [],
   "source": [
    "fx = sp.Function(\"f_x\")(x, y)\n",
    "fy = sp.Function(\"f_y\")(x, y)\n",
    "\n",
    "\n",
    "Jac_gen = jacobian(sp.symbols(\"f_x f_y\"), sp.symbols(\"x y\"))\n",
    "latex(r\"$J_\\text{gen} = %s$\", Jac_gen)\n",
    "print_cpp(\"// \" & \"Jgen = \" + LineArray(pretty(Jac_gen)))\n"
   ]
  },
  {
   "cell_type": "markdown",
   "metadata": {},
   "source": [
    "This gives without any further substitutions:"
   ]
  },
  {
   "cell_type": "code",
   "execution_count": null,
   "metadata": {},
   "outputs": [],
   "source": [
    "J = jacobian([vx, vy], [x, y])\n",
    "latex(r\"$$J = %s$$\", J)"
   ]
  },
  {
   "cell_type": "markdown",
   "metadata": {},
   "source": [
    "However, we want to go from **STRIP** to **MODULE** system, which means we need to describe $x, y$ in *shifted* polar coordinates. \n",
    "\n",
    "$$\n",
    "\\left(\\begin{matrix}\n",
    "x \\\\ \n",
    "y \n",
    "\\end{matrix}\\right)\n",
    "= \\left(\\begin{matrix}\n",
    "r \\cos(\\phi - \\Delta\\phi) \\\\\n",
    "r \\sin(\\phi - \\Delta\\phi)\n",
    "\\end{matrix}\\right)\n",
    "$$\n",
    "\n",
    "where $r$, $\\phi$ are the polar coordinates of the point and $\\Delta\\phi$ is a rotation that might be applied.\n",
    "$x, y$ are still in the **STRIP** system at this point. We transform into **MODULE** by shifting the origin:\n",
    "\n",
    "$$\n",
    "\\left(\n",
    "\\begin{matrix}\n",
    "x_2 \\\\ y_2\n",
    "\\end{matrix}\n",
    "\\right) = \n",
    "\\left(\n",
    "\\begin{matrix}\n",
    "x \\\\ y\n",
    "\\end{matrix}\n",
    "\\right) + \\vec O\n",
    "=\n",
    "\\left(\n",
    "\\begin{matrix}\n",
    "r \\cos(\\phi - \\Delta\\phi) + O_x \\\\\n",
    "r \\sin(\\phi - \\Delta\\phi + O_y\n",
    "\\end{matrix}\n",
    "\\right)\n",
    "$$\n",
    "\n",
    "This vector needs to be calculated back to polar coordinates."
   ]
  },
  {
   "cell_type": "code",
   "execution_count": null,
   "metadata": {},
   "outputs": [],
   "source": [
    "# produce comment for equation above (x, y)\n",
    "x, y, r, phi, dPhi, O_x, O_y = sp.symbols(\"x y r phi dPhi O_x O_y\")\n",
    "a = sp.Matrix([x, y])\n",
    "b = sp.Matrix([r*sp.cos(phi - dPhi) + O_x, r*sp.sin(phi - dPhi) + O_y])\n",
    "print_cpp(\"// \" & (LineArray(pretty(a)) + \" = \" + LineArray(pretty(b))))"
   ]
  },
  {
   "cell_type": "code",
   "execution_count": null,
   "metadata": {},
   "outputs": [],
   "source": [
    "# set up symbols\n",
    "r_strip, phi_strip, dphi = sp.symbols(\"r_{strip} \\phi_{strip} \\Delta\\phi\")\n",
    "r_mod, phi_mod = sp.symbols(\"r_{mod} \\phi_{mod}\")\n",
    "Ox, Oy = sp.symbols(\"O_x O_y\")\n",
    "\n",
    "# calculate polar coordinates for \n",
    "x2, y2 = r_strip * sp.cos(phi_strip - dphi) + Ox, r_strip * sp.sin(phi_strip - dphi) + Oy\n",
    "ml = sp.Matrix([r_mod, phi_mod])\n",
    "mr = sp.Matrix([vx.subs({x: x2, y: y2}), vy.subs({x: x2, y: y2})])\n",
    "latex(r\"\"\"in **MODULE** polar coordinate system:\n",
    "\n",
    "$%s = %s$\"\"\", ml, mr)\n",
    "\n",
    "ml, mr = [m.subs({r_mod: \"rMod\", phi_mod: \"phiMod\", r_strip: \"rStrip\", phi_strip: \"phiStrip\", dphi: \"dPhi\"}) for m in (ml, mr)]\n",
    "\n",
    "print_cpp(\"// \" & ( LineArray(pretty(ml)) + \" = \" + LineArray(pretty(mr)) ))"
   ]
  },
  {
   "cell_type": "code",
   "execution_count": null,
   "metadata": {},
   "outputs": [],
   "source": [
    "J = jacobian([r_mod, phi_mod], [r_strip, phi_strip])\n",
    "latex(r\"$J = %s$\", J)\n",
    "print_cpp(\"// \" & \"J = \" + LineArray(pretty(J.subs({r_mod: \"rMod\", phi_strip: \"phiStrip\", phi_mod: \"phiMod\"}))))\n",
    "\n",
    "\n",
    "latex(r\"Substituting $%s$ and $%s$ results in:\", r_mod, phi_mod)\n",
    "\n",
    "J = jacobian([vx.subs({x: x2, y: y2}), vy.subs({x: x2, y: y2})], [r_strip, phi_strip])\n",
    "s = \"\"\n",
    "for i, row in enumerate(J.tolist()):\n",
    "    for j, e in enumerate(row):\n",
    "        s += (r\"$J_{%d%d} = %s$\"+\"\\n\\n\") %(i, j, sp.latex(e))\n",
    "\n",
    "display(Markdown(s))\n",
    "J = J.applyfunc(lambda c: c.doit())\n",
    "J = sp.simplify(J)\n",
    "latex(r\"\"\"\n",
    "Carrying out the derivative gives the final jacobian converting from **STRIP-PC** to **MODULE-PC**:\n",
    "$$J = %s$$\n",
    "\"\"\", J)"
   ]
  },
  {
   "cell_type": "markdown",
   "metadata": {},
   "source": [
    "Simplify a bit to ease calculation:"
   ]
  },
  {
   "cell_type": "code",
   "execution_count": null,
   "metadata": {},
   "outputs": [],
   "source": [
    "A, B, C = sp.symbols(\"A B C\")\n",
    "A_expr = sp.simplify(sp.expand((Ox + r_strip*sp.cos(phi_strip - dphi))**2 \n",
    "                               + (Oy + r_strip*sp.sin(phi_strip - dphi))**2))\n",
    "B_expr = sp.cos(phi_strip - dphi)\n",
    "C_expr = sp.sin(phi_strip - dphi)\n",
    "Jsim = sp.simplify(sp.expand(J)).subs({A_expr: A, B_expr: B, C_expr: C})\n",
    "\n",
    "latex(\"\"\"$$J = %s$$\"\"\", Jsim)\n",
    "latex(r\"where: $A = %s \\\\ B = %s \\\\ C = %s$\", A_expr, B_expr, C_expr)"
   ]
  },
  {
   "cell_type": "code",
   "execution_count": null,
   "metadata": {},
   "outputs": [],
   "source": [
    "# generate some c++ code to avoid errors by re-typing:\n",
    "s = \"\"\n",
    "extocpp = lambda e: sp.printing.cxxcode(e.subs({\"r_{strip}\": \"r_strip\", \"\\Delta\\phi\": \"dphi\", \n",
    "                                                \"\\phi_{strip}\": \"phi_strip\"}))\n",
    "s += str(\"// \" & \"A = \" + LineArray(pretty(A_expr.subs({r_strip: \"rStrip\", phi_strip: \"phiStrip\", dphi: \"dPhi\"}))))\n",
    "s += \"\\n\"\n",
    "s += \"double A = \" + extocpp(A_expr) + \";\"\n",
    "s += \"\\n\"*2\n",
    "s += str(\"// \" & \"B = \" + LineArray(pretty(B_expr.subs({r_strip: \"rStrip\", phi_strip: \"phiStrip\", dphi: \"dPhi\"}))))\n",
    "s += \"\\n\"\n",
    "s += \"double B = \" + extocpp(B_expr) + \";\"\n",
    "s += \"\\n\"*2\n",
    "s += str(\"// \" & \"C = \" + LineArray(pretty(C_expr.subs({r_strip: \"rStrip\", phi_strip: \"phiStrip\", dphi: \"dPhi\"}))))\n",
    "s += \"\\n\"\n",
    "s += \"double C = \" + extocpp(C_expr) + \";\"\n",
    "s += \"\\n\"*2\n",
    "s += str(\"// \" & \"J = \" + LineArray(pretty((Jsim.subs({r_strip: \"rStrip\", phi_strip: \"phiStrip\", dphi: \"dPhi\"})))))\n",
    "s += \"\\n\"\n",
    "s += \"Eigen::Matrix<double, 2, 2> J;\\n\"\n",
    "for i, row in enumerate(Jsim.tolist()):\n",
    "    for j, e in enumerate(row):\n",
    "        s += \"J(%d, %d) = \"%(i,j) + extocpp(e)\n",
    "        s += \";\\n\"\n",
    "print_cpp(s)"
   ]
  },
  {
   "cell_type": "markdown",
   "metadata": {},
   "source": [
    "# Intersection between line and shifted circle\n",
    "\n",
    "For the parametrization in `AnnulusBoundsPC`, we need to figure out the edge points so we can do the decomposition into outward sectors. The points need to be in the **STRIP** system. To find the, we need to intersect a line (left and right angular edge of the module) and a shifted circle (inner and outer radial bounds, in the **MODULE**)."
   ]
  },
  {
   "cell_type": "code",
   "execution_count": null,
   "metadata": {},
   "outputs": [],
   "source": [
    "x, y, m, b = sp.symbols(\"x y m b\")\n",
    "r, O_x, O_y = sp.symbols(\"r O_x O_y\")\n",
    "line_eq = m*x + b\n",
    "#display(line_eq)\n",
    "circle_eq = (x-O_x)**2 + (y-O_y)**2 - r**2\n",
    "#display(circle_eq)\n",
    "\n",
    "c_subs = circle_eq.subs(y, line_eq)\n",
    "#display(c_subs)\n",
    "sols_x = [sp.simplify(sp.expand(s.subs({b: 0}))) for s in sp.solve(c_subs, x)]\n",
    "display(sols_x)\n",
    "\n",
    "for s in [e.subs({b: 0}) for e in sols_x]: \n",
    "    print_cpp(sp.printing.cxxcode(s))\n",
    "    print_cpp(\"// \" & LineArray(pretty(s)))\n"
   ]
  },
  {
   "cell_type": "markdown",
   "metadata": {},
   "source": [
    "Test that the above calculation actually works."
   ]
  },
  {
   "cell_type": "code",
   "execution_count": null,
   "metadata": {},
   "outputs": [],
   "source": [
    "mid = Point(0, -0.5)\n",
    "radius = 1\n",
    "circ = mid.buffer(radius)\n",
    "out = Point(2*cos(pi/8), 2*sin(pi/8))\n",
    "line = LineString([(0, 0), out])\n",
    "subs = {O_x: mid.x, O_y: mid.y, b: 0, m: out.y/out.x, r: radius}\n",
    "display(subs)\n",
    "\n",
    "ix = line.intersection(circ.exterior)\n",
    "\n",
    "fig = plt.figure()\n",
    "\n",
    "ax = fig.add_subplot(111, aspect=1, xlim=(-5, 5), ylim=(-5, 5))\n",
    "ax.add_patch(PolygonPatch(circ, fc=\"lightgrey\"))\n",
    "\n",
    "ax.plot(*line.xy, color=\"red\")\n",
    "for p in (ix if type(ix) is list else [ix]):\n",
    "    #print(\"Point:\", p.x, p.y)\n",
    "    ax.plot(*p.xy, \"o\", color=\"orange\", markersize=6)\n",
    "\n",
    "save(fig, \"line_circle_intersect.pdf\")\n",
    "\n",
    "vals_x = [x.subs(subs) for x in sols_x]\n",
    "vals_y = [sp.solve(line_eq-y, y)[0].subs(subs).subs(x, vx) for vx in vals_x]\n",
    "\n",
    "pts = [sp.Matrix([x, y]) for x, y in zip(vals_x, vals_y)]\n",
    "outm = sp.Matrix([out.x, out.y])\n",
    "\n",
    "\n",
    "the_point, = [p for p in pts if p.dot(sp.Matrix([1, 0])) > 0]\n",
    "display(the_point)\n",
    "\n",
    "assert abs(1-ix.x / the_point[0]) < 1e-2\n",
    "assert abs(1-ix.y / the_point[1]) < 1e-2\n"
   ]
  },
  {
   "cell_type": "markdown",
   "metadata": {},
   "source": [
    "# Production of test data for AnnulusDebugAlg\n",
    "\n",
    "To validate the geometry implementation in C++, a reference is established using the `shapely` library. This library allows construction of the needed annulus-like shape using boolean operations, and then allows calculating the distance.\n",
    "\n",
    "The first step is to produce the boolean shape using the same input parameters that we use for the C++ implementation. In fact, the code below produces C++ code with the input parameters specified here.\n",
    "\n",
    "Using the boolean-constructed shape, we can then create a regular grid of test points, calculate their distances to the shape in python, and write out the results as test data for a C++ based test."
   ]
  },
  {
   "cell_type": "code",
   "execution_count": null,
   "metadata": {},
   "outputs": [],
   "source": [
    "def make_annulus(minR, maxR, phiMin, phiMax, phiAvg = 0, origin = (0, 0), plot=False, plot_margin=0.2, name=\"ab\"):\n",
    "    #print(\"phiMin\", phiMin, \"phiMax\", phiMax)\n",
    "    ox, oy = origin\n",
    "    oR = sqrt(ox**2 + oy**2)\n",
    "    ophi = atan2(oy, ox)\n",
    "    porigin = Point(oR*cos(ophi - phiAvg), oR*sin(ophi - phiAvg))\n",
    "    \n",
    "    cin = porigin.buffer(minR)\n",
    "    cout = porigin.buffer(maxR) \n",
    "    \n",
    "    p1 = (maxR*2*cos(phiMax - phiAvg), maxR*2*sin(phiMax - phiAvg))\n",
    "    p2 = (maxR*2*cos(phiMin - phiAvg), maxR*2*sin(phiMin - phiAvg))\n",
    "    \n",
    "    O = (0, 0)\n",
    "    poly = Polygon([O, p1, p2])\n",
    "    p_out = poly.boundary.intersection(cout.boundary)\n",
    "    p_in = poly.boundary.intersection(cin.boundary)\n",
    "    \n",
    "    ring = cout.difference(cin)\n",
    "    annulus = poly.intersection(ring)\n",
    "    \n",
    "    if plot:\n",
    "        fig = plt.figure(figsize=(16, 7))\n",
    "        def sp(lay, bounds, aspect=1):\n",
    "            minx, miny, maxx, maxy = bounds\n",
    "            ax = fig.add_subplot(lay, \n",
    "                             xlim=(minx-plot_margin, maxx+plot_margin), \n",
    "                             ylim=(miny-plot_margin, maxy+plot_margin), \n",
    "                             aspect=aspect)\n",
    "            return ax\n",
    "        \n",
    "        \n",
    "        ax = sp(131, cout.bounds)\n",
    "        ax.add_patch(PolygonPatch(cout, fc=\"green\"))\n",
    "        ax.add_patch(PolygonPatch(cin, fc=\"blue\"))\n",
    "        ax.plot(*porigin.xy, \"o\", color=\"red\")\n",
    "        ax.plot(*O, \"o\", color=\"red\", markerfacecolor='None')\n",
    "        \n",
    "        ax = sp(132, cout.union(poly).bounds)\n",
    "        ax.add_patch(PolygonPatch(ring, fc=\"lightgrey\"))\n",
    "        \n",
    "        ax.plot(*porigin.xy, \"o\", color=\"red\")\n",
    "        ax.plot(*O, \"o\", color=\"red\", markerfacecolor='None')\n",
    "        ax.plot(*poly.exterior.xy)    \n",
    "        ax.plot([p.x for p in p_out], [p.y for p in p_out], \"o\", color=\"orange\")\n",
    "        ax.plot([p.x for p in p_in], [p.y for p in p_in], \"o\", color=\"orange\")\n",
    "\n",
    "        ax = sp(133, cin.union(annulus).bounds)\n",
    "        ax.plot(*cin.boundary.xy, \"--\", color=\"grey\")\n",
    "        ax.plot(*cout.boundary.xy, \"--\", color=\"grey\")\n",
    "        ax.add_patch(PolygonPatch(annulus))\n",
    "        ax.plot(*porigin.xy, \"o\", color=\"red\")\n",
    "        ax.plot(*O, \"o\", color=\"red\", markerfacecolor='None')\n",
    "        ax.plot(*LineString([O, p_in[0]]).xy, \"b--\")\n",
    "        ax.plot(*LineString([O, p_in[1]]).xy, \"b--\")\n",
    "        \n",
    "        save(fig, \"annulus_construction.pdf\")\n",
    "\n",
    "    cpp = \"\"\"\n",
    "Trk::AnnulusBoundsPC %s(%f, // minR\n",
    "                        %f, // maxR\n",
    "                        %f * M_PI, // phiMin\n",
    "                        %f * M_PI, // phiMax\n",
    "                        {%f, %f}, // origin\n",
    "                        %f * M_PI /* phiAvg */);\n",
    "\"\"\"\n",
    "    cpp = cpp.strip() % (name, minR, maxR, phiMin/pi, phiMax/pi, ox, oy, phiAvg/pi)\n",
    "    \n",
    "    return annulus, cpp\n",
    "\n",
    "# this constructs the annulus-like shape, with (arbitrary) parameters\n",
    "annulus, annuluscpp = make_annulus(1, 2, -pi/8, +pi/8, origin = (0, -0.5), phiAvg=0, plot=True, name=\"asymT1Ab\")\n",
    "print_cpp(annuluscpp)"
   ]
  },
  {
   "cell_type": "markdown",
   "metadata": {},
   "source": [
    "## Distance calculation\n",
    "\n",
    "The distance that is calculated depends on the coordinate system. The local position argument of the `minDistance` method is expected to be in **STRIP** PC, but it probably makes the most sense to return cartesian distance anyway. In cartesian distance we can decompose the shape and find the closest point on each side."
   ]
  },
  {
   "cell_type": "code",
   "execution_count": null,
   "metadata": {},
   "outputs": [],
   "source": [
    "# this method generates a list of points around the bounding box of the geometry object with a \n",
    "# speficied margin, and calculates the closest points. A list of tuples \n",
    "def calc_distances(obj_orig, npoints, margin=0.2, trf=lambda x, y: (x, y), itrf=lambda x, y: (x, y)):\n",
    "    result = []\n",
    "    obj = transform(trf, obj_orig)\n",
    "    gminx, gminy, gmaxx, gmaxy = obj_orig.bounds\n",
    "    for gx in np.linspace(gminx-margin, gmaxx+margin, npoints):\n",
    "        for gy in np.linspace(gminy-margin, gmaxy+margin, npoints):\n",
    "            pointpc = Point(*trf(gx, gy))\n",
    "            pointxy = Point(gx, gy)\n",
    "\n",
    "            d = obj.boundary.project(pointpc)\n",
    "            p = obj.boundary.interpolate(d)\n",
    "            closest_point_coords = list(p.coords)[0]\n",
    "            cls = Point(*itrf(*closest_point_coords))\n",
    "            result.append((pointxy, cls))\n",
    "    return result"
   ]
  },
  {
   "cell_type": "code",
   "execution_count": null,
   "metadata": {},
   "outputs": [],
   "source": [
    "# number of test points to produce in each coordinate\n",
    "npoints = 20\n",
    "cart_points = calc_distances(annulus, npoints)\n",
    "def polartrf(x, y):\n",
    "    return tuple(Vec2(x, y).to_polar())\n",
    "def carttrf(l0, l1):\n",
    "    return tuple(Vec2(l0, l1).to_cartesian())\n",
    "points_polar = calc_distances(annulus, npoints, trf=polartrf, itrf=carttrf)\n",
    "annulus_polar = transform(polartrf, annulus)"
   ]
  },
  {
   "cell_type": "code",
   "execution_count": null,
   "metadata": {
    "scrolled": false
   },
   "outputs": [],
   "source": [
    "prog = tqdm(total=len(cart_points)*3, leave=False)\n",
    "\n",
    "fig = plt.figure(figsize=(14, 7))\n",
    "\n",
    "display(Markdown(r\"\"\"\n",
    "The plots below illustrate the difference in distance calculation. The left side show cartesian closest points \n",
    "(and their distance), while the right side shows the same for polar calculation.\n",
    "\"\"\"))\n",
    "\n",
    "# cartesian\n",
    "ax = fig.add_subplot(121, aspect=1, xlabel=\"x\", ylabel=\"y\", title=\"projection in XY\")\n",
    "points = calc_distances(annulus, npoints)\n",
    "for p, cls in points:\n",
    "    within = p.within(annulus)\n",
    "    ax.plot(*p.xy, \"o\", color=\"green\" if within else \"red\")\n",
    "    ax.plot(*cls.xy, \"o\", color=\"blue\")\n",
    "    l = LineString([p, cls])\n",
    "    ax.plot(*l.xy, linewidth=3, color=\"orange\")\n",
    "    prog.update()\n",
    "ax.add_patch(PolygonPatch(annulus, fc=\"lightgrey\"))\n",
    "\n",
    "# polar\n",
    "ax = fig.add_subplot(122, aspect=1, xlabel=\"x\", ylabel=\"y\", title=\"projection in PC\")\n",
    "\n",
    "for p, cls in points_polar: # points are not in polar, distances are\n",
    "    within = p.within(annulus)\n",
    "    ax.plot(*p.xy, \"o\", color=\"green\" if within else \"red\")\n",
    "    ax.plot(*cls.xy, \"o\", color=\"blue\")\n",
    "    l = LineString([p, cls])\n",
    "    ax.plot(*l.xy, linewidth=3, color=\"orange\")\n",
    "    prog.update()\n",
    "ax.add_patch(PolygonPatch(annulus, fc=\"lightgrey\"))\n",
    "\n",
    "save(fig, \"distances_cart_pc.pdf\")\n",
    "\n",
    "display(Markdown(r\"\"\"\n",
    "Note that the resulting connecting\n",
    "lines are drawn in the cartesian frame for both cases, so they appear as straight lines in both cases. This\n",
    "does not actually represent the distance being calculated. The plot below draws the connecting lines in a\n",
    "polar projection, where they appear curved.\n",
    "\"\"\"))\n",
    "\n",
    "fig = plt.figure(figsize=(8, 8))\n",
    "\n",
    "ax = fig.add_subplot(111, \n",
    "                 aspect=1, \n",
    "                 xlabel=\"r\", ylabel=\"\\phi\",\n",
    "                 rlim=(0, 3),\n",
    "                 title=\"projection in PC\",\n",
    "                 projection=\"polar\")\n",
    "ax.set_thetamin(-70)\n",
    "ax.set_thetamax(70)\n",
    "annulus_pltpc = transform(lambda x, y: tuple(reversed(polartrf(x, y))), annulus)\n",
    "ax.add_patch(PolygonPatch(annulus_pltpc, fc=\"lightgrey\"))\n",
    "for p, cls in points_polar: # points are not in polar, distances are\n",
    "    ppc = Vec2(*reversed(polartrf(p.x, p.y)))\n",
    "    clspc = Vec2(*reversed(polartrf(cls.x, cls.y)))\n",
    "    within = p.within(annulus)\n",
    "    ax.plot(*ppc.xy, \"o\", color=\"green\" if within else \"red\")\n",
    "    ax.plot(*clspc.xy, \"o\", color=\"blue\")\n",
    "    l = Line2(ppc, clspc)\n",
    "    ax.plot(*l.xy, linewidth=3, color=\"orange\")\n",
    "    prog.update()\n",
    "    \n",
    "prog.close()\n",
    "save(fig, \"distance_polar_proj.pdf\")"
   ]
  },
  {
   "cell_type": "markdown",
   "metadata": {},
   "source": [
    "The implemented `minDistance` method is implemented consistently with the cartesian calculation shown above."
   ]
  },
  {
   "cell_type": "markdown",
   "metadata": {},
   "source": [
    "### Produce C++ output to create the tests more easily\n",
    "\n",
    "This generates C++ code to reproduce the annulus bounds class, the test points, their respective closest points, the correct distance between the two, as well as whether the point is actually inside the bounds or not. **Very long output**."
   ]
  },
  {
   "cell_type": "code",
   "execution_count": null,
   "metadata": {
    "scrolled": true
   },
   "outputs": [],
   "source": [
    "name = \"asymT1\"\n",
    "\n",
    "cppstr = \"\"\n",
    "\n",
    "cppstr += annuluscpp + \"\\n\"*2\n",
    "\n",
    "cppstr += make_cpp_vector(\"%sTestPoints\"%name, \n",
    "                         \"Amg::Vector2D\", \n",
    "                         [\"{%s}\"%\", \".join(map(str, (p.x, p.y))) for p, _ in points])\n",
    "cppstr += \"\\n\"*2\n",
    "cppstr += make_cpp_vector(\"%sClosestPoints\"%name, \n",
    "                         \"Amg::Vector2D\", \n",
    "                         [\"{%s}\"%\", \".join(map(str, (p.x, p.y))) for _, p in points])\n",
    "cppstr += \"\\n\"*2\n",
    "cppstr += make_cpp_vector(\"%sActDistances\"%name, \n",
    "                         \"double\", \n",
    "                         [str(LineString([p, cls]).length) for p, cls in points])\n",
    "cppstr += \"\\n\"*2\n",
    "cppstr += make_cpp_vector(\"%sActInsides\"%name, \n",
    "                         \"bool\", \n",
    "                         [\"true\" if p.within(annulus) else \"false\" for p, _ in points], \n",
    "                         80)\n",
    "\n",
    "print_cpp(cppstr)"
   ]
  },
  {
   "cell_type": "markdown",
   "metadata": {},
   "source": [
    "# Coordinate transform in polar coordinates\n",
    "\n",
    "If we want to do quick inside checks, parametrizing $r$ in **MODULE** as a function of $r$ and $\\phi$ in **STRIP** system should save some time, since we don't have to do the full blown coordinate transform.\n",
    "\n",
    "We take $x$, $y$ as the local coordinates in the **STRIP** system. The **MODULE** system is shifted by $S_x$, $S_y$ to give the coordinates $x'$, $y'$ in the **MODULE** system. \n",
    "\n",
    "$$\n",
    "\\left(\n",
    "\\begin{matrix}\n",
    "x \\\\ y\n",
    "\\end{matrix}\n",
    "\\right)\n",
    "+\n",
    "\\left(\n",
    "\\begin{matrix}\n",
    "S_x \\\\ S_y\n",
    "\\end{matrix}\n",
    "\\right)\n",
    "=\n",
    "\\left(\n",
    "\\begin{matrix}\n",
    "x' \\\\ y'\n",
    "\\end{matrix}\n",
    "\\right)\n",
    "$$\n",
    "\n",
    "We are interested in the quantity $r'$, which is the radius of the point in question, with respect to the origin of the **MODULE** system.\n",
    "\n",
    "\\begin{align}\n",
    "r' = \\sqrt{x'^2 + y'^2} &= \\sqrt{x^2 + S_x^2 + 2x S_x + y^2 + S_y^2 + 2y S_y} \\\\\n",
    "&= \\sqrt{ r_S^2 + r^2 + 2 r \\cdot r_S (\\cos\\phi \\cos\\phi_S + \\sin\\phi\\sin\\phi_S) } \\\\\n",
    "&= \\sqrt{ r_S^2 + r^2 + 2r\\cdot r_S \\cos(\\phi - \\phi_S) }\n",
    "\\end{align}\n",
    "\n",
    "using\n",
    "\n",
    "\\begin{equation}\n",
    "2xS_x = 2rr_S\\cos\\phi\\cos\\phi_S\\\\\n",
    "2yS_y = 2rr_S\\sin\\phi\\sin\\phi_S\\\\\n",
    "\\cos\\phi \\cos\\phi \\mp \\sin\\phi\\sin\\phi_S = \\cos(\\phi \\pm \\phi_S) \\\\\n",
    "r_S^2 = S_x^2 + S_y^2 \\\\\n",
    "r = x^2 + y^2\n",
    "\\end{equation}\n",
    "\n",
    "The shifted angle $\\phi'$ can be calculated as well in principle, but the sign convention seems to be different than what we're used to, and we don't need it for the check anyway. Therefore, only the calculation for $r'$ is implemented in C++.\n",
    "\n",
    "Let's verify that this actually works:"
   ]
  },
  {
   "cell_type": "code",
   "execution_count": null,
   "metadata": {},
   "outputs": [],
   "source": [
    "# given a point p1_c (in STRIP system) and shift in cartesian coordinates do the following:\n",
    "def pol(p1_c, shift):\n",
    "    # convert p1_c to polar STRIP\n",
    "    #p1_pc = p1_c.to_polar()\n",
    "\n",
    "    # calculate the polar coordinates of the shift (STRIP to MODULE)\n",
    "    #shift_pc = shift.to_polar()\n",
    "    \n",
    "    # apply cartesian shift to cartesian p1, this gives p2 which is in MODULE\n",
    "    p2_c = p1_c + shift\n",
    "    # convert p2 to polar, in MODULE\n",
    "    p2_pc = p2_c.to_polar()\n",
    "\n",
    "    # calculate r' from the p1_c and shift, all in STRIP\n",
    "    # the .phi and .r accessors give polar coordinates, but till in STRIP\n",
    "    sqrt_arg = shift.r**2 + p1_c.r**2 + 2*shift.r*p1_c.r*cos(p1_c.phi - shift.phi)\n",
    "    if abs(sqrt_arg) < 1e-10: sqrt_arg = 0\n",
    "    try:\n",
    "        # we can omit the sqrt for comparisons in C++.\n",
    "        rnew = sqrt(sqrt_arg)\n",
    "    except:\n",
    "        print(shift.r**2, p1_c.r**2, 2*shift.r*p1_c.r*cos(p1_c.phi - shift.phi), sqrt_arg)\n",
    "        raise\n",
    "\n",
    "    # return the radius calculated by applying the shift in cartesian, and then converting\n",
    "    # and also the radius as calculated directly from the r,phi STRIP coordinates\n",
    "    return p2_c.r, rnew\n",
    "    \n",
    "for sx in range(-5, 5, 100):\n",
    "    for sy in range(-5, 5, 100):\n",
    "        for px in range(-5, 5, 100):\n",
    "            for py in range(-5, 5, 100):\n",
    "                ref, act = pol(Vec2(px, py), Vec2(sx, sy))\n",
    "                assert ref - act < 1e-6, (ref, act)\n",
    "print(\"ALL GOOD\")"
   ]
  },
  {
   "cell_type": "markdown",
   "metadata": {},
   "source": [
    "# Visual testing\n",
    "\n",
    "The `AnnulusTestAlg` produces a few csv outputs. These files can be read in and plotted here. This gives the ability to visually verify that results are reasonable. The C++ algorithm throw random points around the bounds, tests whether the bounds consider the points to be inside according to several rules, and writes out the point along with that information."
   ]
  },
  {
   "cell_type": "code",
   "execution_count": null,
   "metadata": {},
   "outputs": [],
   "source": [
    "def read_csv(_file, *args, **kwargs):   \n",
    "    file = os.path.join(run_dir, _file)\n",
    "    print(file, \"modified:\", datetime.fromtimestamp(os.path.getmtime(file)))\n",
    "    if not \"sep\" in kwargs: kwargs[\"sep\"] = \";\"\n",
    "    return pd.read_csv(file, *args, **kwargs)"
   ]
  },
  {
   "cell_type": "markdown",
   "metadata": {},
   "source": [
    "This displays the results of the methods `insideLoc1`, `insideLoc2` and `inside`, which return whether the coordinate given as an argument is inside the bounds in that direction, or both. The check is carried out against the polygon-based shape produced above, so we can plot the reference shape on top of the points that we've tested.\n",
    "\n",
    "The methods have multiple modes:\n",
    "\n",
    "\n",
    "- The tolerance modes take absolute tolerances. If a point is closer to the edge of the bounds that the tolerance, it   considered *inside*, else it is considered *outside*. The correlation of these tolerances is neglected.\n",
    "  ```cpp\n",
    "  bool Trk::AnnulusBoundsPC::inside(const Amg::Vector2D& locpo, double tol1, double tol2) const;\n",
    "  ```\n",
    "\n",
    "- `BoundaryCheck` mode accepts an object which describes how the boundary check is performed. This object can contain\n",
    "  either absolute tolerances, in which case it performs identically as the mode above, or a covariance matrix.\n",
    "  ```cpp\n",
    "  bool Trk::AnnulusBoundsPC::inside(const Amg::Vector2D& locpo, const BoundaryCheck& bchk) const;\n",
    "  ```\n",
    "  In the covariance case, the Mahalanobis distance is calculated. The covariance is assumed to be given in **STRIP**\n",
    "  polar coordinates. The Mahalanobis projection and distance calculation is performed on the angular edges using this\n",
    "  covariance. The covariance matrix is then converted to **MODULE** polar coordinates, and the same projection and \n",
    "  distance calculation is performed. If the smallest Mahalanobis distance is smaller than the number of $\\sigma$ \n",
    "  given in the `BoundaryCheck` object, it is considered inside."
   ]
  },
  {
   "cell_type": "code",
   "execution_count": null,
   "metadata": {},
   "outputs": [],
   "source": [
    "dftol12 = read_csv(\"vis_tol12.csv\")"
   ]
  },
  {
   "cell_type": "code",
   "execution_count": null,
   "metadata": {
    "scrolled": false
   },
   "outputs": [],
   "source": [
    "fig = plt.figure(figsize=(16, 10))\n",
    "\n",
    "insideAbs = dftol12.loc[dftol12['insideAbs'] == 1]\n",
    "insideTolExcl = dftol12.loc[(dftol12['insideAbs'] != 1) & (dftol12[\"insideTol\"] == 1)]\n",
    "insideLoc1Abs = dftol12.loc[(dftol12[\"insideLoc1Abs\"] == 1)]\n",
    "insideLoc1Tol = dftol12.loc[(dftol12[\"insideLoc1Tol\"] == 1) & (dftol12[\"insideLoc1Abs\"] == 0)]\n",
    "insideLoc2Abs = dftol12.loc[(dftol12[\"insideLoc2Abs\"] == 1)]\n",
    "insideLoc2Tol = dftol12.loc[(dftol12[\"insideLoc2Tol\"] == 1) & (dftol12[\"insideLoc2Abs\"] == 0)]\n",
    "\n",
    "# loc 12\n",
    "ax = fig.add_subplot(231, aspect=1, )\n",
    "ax.add_patch(PolygonPatch(annulus, alpha=1, fill=False, linewidth=4, ec=\"green\"))\n",
    "ax.scatter(insideAbs[\"x\"], insideAbs[\"y\"], color=\"blue\")\n",
    "ax.scatter(insideTolExcl[\"x\"], insideTolExcl[\"y\"], color=\"red\")\n",
    "\n",
    "# loc 1\n",
    "ax = fig.add_subplot(232, aspect=1)\n",
    "ax.set_title(\"insideLoc1\")\n",
    "ax.add_patch(PolygonPatch(annulus, alpha=1, fill=False, linewidth=4, ec=\"green\"))\n",
    "ax.scatter(insideLoc1Abs[\"x\"], insideLoc1Abs[\"y\"], color=\"blue\")\n",
    "ax.scatter(insideLoc1Tol[\"x\"], insideLoc1Tol[\"y\"], color=\"red\")\n",
    "ax = fig.add_subplot(235, aspect=1, **boundlim(annulus))\n",
    "ax.set_title(\"insideLoc1\")\n",
    "ax.add_patch(PolygonPatch(annulus, alpha=1, fill=False, linewidth=4, ec=\"green\"))\n",
    "ax.scatter(insideLoc1Abs[\"x\"], insideLoc1Abs[\"y\"], color=\"blue\")\n",
    "ax.scatter(insideLoc1Tol[\"x\"], insideLoc1Tol[\"y\"], color=\"red\")\n",
    "\n",
    "# loc 2\n",
    "ax = fig.add_subplot(233, aspect=1)\n",
    "ax.set_title(\"insideLoc2\")\n",
    "ax.add_patch(PolygonPatch(annulus, alpha=1, fill=False, linewidth=4, ec=\"green\"))\n",
    "ax.scatter(insideLoc2Abs[\"x\"], insideLoc2Abs[\"y\"], color=\"blue\")\n",
    "ax.scatter(insideLoc2Tol[\"x\"], insideLoc2Tol[\"y\"], color=\"red\")\n",
    "ax = fig.add_subplot(236, aspect=1, **boundlim(annulus))\n",
    "ax.add_patch(PolygonPatch(annulus, alpha=1, fill=False, linewidth=4, ec=\"green\"))\n",
    "ax.set_title(\"insideLoc2\")\n",
    "ax.scatter(insideLoc2Abs[\"x\"], insideLoc2Abs[\"y\"], color=\"blue\")\n",
    "ax.scatter(insideLoc2Tol[\"x\"], insideLoc2Tol[\"y\"], color=\"red\")\n",
    "\n",
    "save(fig, \"inside_tol.png\")"
   ]
  },
  {
   "cell_type": "markdown",
   "metadata": {},
   "source": [
    "The above plots show the results of the tolerance based checks. The green line is the reference shape, as rendered directly in python. The red points are considered *inside* the tolerance of that direction, the blue points are considered *inside* by absolute cuts (tolerance = 0) by the C++ implementation. \n",
    "\n",
    "The top left plot shows the result of `inside`. The other plots show `insideLoc1` and `insideLoc2`, which correspond to $r$ and $\\phi$ in the **STRIP** system. The lower row zooms in on the plots above them. "
   ]
  },
  {
   "cell_type": "markdown",
   "metadata": {},
   "source": [
    "This tests the inside method in the covariance mode. An arbitrary covariance matrix is chosen."
   ]
  },
  {
   "cell_type": "code",
   "execution_count": null,
   "metadata": {},
   "outputs": [],
   "source": [
    "dfcov = read_csv(\"vis_cov.csv\")"
   ]
  },
  {
   "cell_type": "code",
   "execution_count": null,
   "metadata": {},
   "outputs": [],
   "source": [
    "colors = {0: \"grey\", 1: \"yellow\", 2: \"green\", 3: \"pink\", 4: \"orange\"}\n",
    "dfcov[\"color\"] = dfcov[\"side\"].apply(lambda r: colors[r])"
   ]
  },
  {
   "cell_type": "code",
   "execution_count": null,
   "metadata": {
    "scrolled": false
   },
   "outputs": [],
   "source": [
    "insideAbs = dfcov[dfcov[\"inside\"] == 1]\n",
    "insideCov = dfcov[(dfcov[\"insideCov\"] == 1) & (dfcov[\"inside\"] == 0)]\n",
    "\n",
    "fig = plt.figure(figsize=(10, 10))\n",
    "ax = plt.subplot(111, aspect=1)\n",
    "ax.scatter(insideAbs[\"x\"], insideAbs[\"y\"], color=\"blue\")\n",
    "insideCov.plot.scatter(x=\"x\", y=\"y\", c=insideCov[\"color\"], ax=ax)\n",
    "ax.add_patch(PolygonPatch(annulus, alpha=1, fill=False, linewidth=4, ec=\"green\"))\n",
    "\n",
    "save(fig, \"inside_cov.png\")"
   ]
  },
  {
   "cell_type": "markdown",
   "metadata": {},
   "source": [
    "The blue points are considered absolute inside by the C++ implementation, while the grey points are considered inside based on the covariance check. The green line is the reference calculated and drawn in python.\n",
    "\n",
    "The covariance based check takes into account both dimensions at the same time, explaining the *rounded* corners. This visualization appears to be reasonable"
   ]
  },
  {
   "cell_type": "markdown",
   "metadata": {},
   "source": [
    "## Comparison to current implementation\n",
    "\n",
    "Another comparison is the one to the current implementation. The implementation is such that an existing instance of `AnnulusBounds` can be used to construct an equivalent `AnnulusBoundsPC`. These two instances should then be geometrically identical. \n",
    "\n",
    "This test then checks whether the translation from the previous parametrization is correctly translated into the parameters required for the new parametrization.\n",
    "\n",
    "This is tested by producing a cartesian instance and converting this instance to polar coordinates. Then random points are thrown in the **MODULE** cartesian frame and converted into the **STRIP** polar frame. The points are then tested against the respective implementation. Both results are written out, they should agree."
   ]
  },
  {
   "cell_type": "code",
   "execution_count": null,
   "metadata": {},
   "outputs": [],
   "source": [
    "dfcmp = read_csv(\"vis_cmp.csv\")"
   ]
  },
  {
   "cell_type": "code",
   "execution_count": null,
   "metadata": {
    "scrolled": false
   },
   "outputs": [],
   "source": [
    "insideRef = dfcmp[dfcmp[\"insideRef\"] == 1]\n",
    "insidePC = dfcmp[dfcmp[\"inside\"] == 1]\n",
    "\n",
    "insideCorrect = dfcmp[(dfcmp[\"insideRef\"] == dfcmp[\"inside\"]) & (dfcmp[\"insideRef\"] == 1)]\n",
    "insideIncorrect = dfcmp[dfcmp[\"insideRef\"] != dfcmp[\"inside\"]]\n",
    "\n",
    "fig = plt.figure(figsize=(13, 7))\n",
    "ax = fig.add_subplot(121, aspect=1)\n",
    "ax.scatter(insideRef[\"x\"], insideRef[\"y\"], color=\"orange\", label=\"inside ref\")\n",
    "ax.scatter(insidePC[\"x\"], insidePC[\"y\"], color=\"blue\", label=\"inside pc\")\n",
    "\n",
    "ys = np.linspace(-1, 11)\n",
    "k_L = -6.6658\n",
    "k_R = 2.73951\n",
    "d_L = -1.31112\n",
    "d_R = 0.556981\n",
    "ax.plot((ys-d_L)/k_L, ys, c=\"grey\")\n",
    "ax.plot((ys-d_R)/k_R, ys, c=\"grey\")\n",
    "\n",
    "O_x = (d_L - d_R) / (k_R - k_L)\n",
    "O_y = O_x*k_L + d_L\n",
    "\n",
    "ms = 5\n",
    "ax.plot(*Point(0, 0).buffer(5).exterior.xy, c=\"grey\")\n",
    "ax.plot(*Point(0, 0).buffer(10).exterior.xy, c=\"grey\")\n",
    "ax.plot(0, 0, \"x\", c=\"green\", label=\"origin STRIP\", markersize=ms)\n",
    "ax.plot(O_x, O_y, \"o\", c=\"red\", label=\"origin MODULE\", markersize=ms)\n",
    "\n",
    "ax.set_xlim(-5, 5)\n",
    "ax.set_ylim(-1, 11)\n",
    "ax.set_xlabel(\"x\")\n",
    "ax.set_ylabel(\"y\")\n",
    "\n",
    "ax.legend()\n",
    "\n",
    "ax = fig.add_subplot(122, aspect=1)\n",
    "ax.scatter(insideCorrect[\"x\"], insideCorrect[\"y\"], color=\"green\", label=\"correct points\")\n",
    "ax.scatter(insideIncorrect[\"x\"], insideIncorrect[\"y\"], color=\"red\", label=\"incorrect points\")\n",
    "ax.plot((ys-d_L)/k_L, ys, c=\"grey\")\n",
    "ax.plot((ys-d_R)/k_R, ys, c=\"grey\")\n",
    "ax.plot(*Point(0, 0).buffer(5).exterior.xy, c=\"grey\")\n",
    "ax.plot(*Point(0, 0).buffer(10).exterior.xy, c=\"grey\")\n",
    "ax.plot(0, 0, \"x\")\n",
    "ax.plot(O_x, O_y, \"o\")\n",
    "ax.set_xlim(-2, 4)\n",
    "ax.set_ylim(4, 11)\n",
    "ax.set_xlabel(\"x\")\n",
    "ax.set_ylabel(\"y\")\n",
    "ax.legend()\n",
    "\n",
    "fig.tight_layout()\n",
    "save(fig, \"consistency_bounds.png\")"
   ]
  },
  {
   "cell_type": "markdown",
   "metadata": {},
   "source": [
    "The plots above show the thrown points, color coded depending on the status. The lines are drawn in python from (manually) extracted parameters. They indicate the nominal position of the bounds.\n",
    "\n",
    "The left plot shows the origin of the two coordinate systems. The points considered inside by the reference implementation are shown in orange, the once considered inside by the PC implementation in blue. Only blue points are visible because the PC points are drawn on top.\n",
    "\n",
    "The right plot shows points where both implementations agree in green, while points where they disagree are shown in red. (There are no red points visible, yes, they are drawn on top of the green points)"
   ]
  },
  {
   "cell_type": "markdown",
   "metadata": {},
   "source": [
    "## Surface class is queried using isOnSurface\n",
    "\n",
    "This part tests the translation of an instance of `AnnulusBounds` on a `PlaneSurface` into an `AnnulusBoundsPC` on a `DiscSurface`. To this end, instances of the previous implementation are produced with *random* transforms, and bounds parameters. These instances are then passed into a `DiscSurface` constructor which takes the transform from the previous `DiscSurface` and translates the bounds. (The call needs to manually extract the transform and the bounds). These two instances should agree on the results of the method `Surface::isOnSurface` for all points.\n",
    "\n",
    "The parametrization of the cartesian annulus bounds is oriented towards the $y$ axis, whereas the polar cooridnate implementation is oriented toward the $y$ axis. This is accounted for by rotating the local surface frame so these axes align.\n",
    "\n",
    "Random test points are thrown in local coordinates of the `PlaneSurface`, converted to global coordinates, and then fed into the `::isOnSurface()` methods of both instances. The results are written out. (The output also contains information on the corner points, origin shifts and stereo angle, which are used to draw the dashed reference lines.)\n",
    "\n",
    "Any discrepancy should be seen in these random test points.\n",
    "\n",
    "The test is done in C++ for 100 random instances and 10000 test points each. 20 instance results are plotted below."
   ]
  },
  {
   "cell_type": "code",
   "execution_count": null,
   "metadata": {},
   "outputs": [],
   "source": [
    "dfcmpsrf = read_csv(\"vis_cmp_srf.csv\")"
   ]
  },
  {
   "cell_type": "code",
   "execution_count": null,
   "metadata": {
    "scrolled": false
   },
   "outputs": [],
   "source": [
    "def do_nr(ax, df, nr):\n",
    "    onSurfaceRef = df[df[\"onSurfaceRef\"] == 1]\n",
    "    onSurfaceAct = df[df[\"onSurfaceAct\"] == 1]\n",
    "    onSurfaceCorrect = df[(df[\"onSurfaceAct\"] == df[\"onSurfaceRef\"]) & df[\"onSurfaceRef\"] == 1]\n",
    "    onSurfaceIncorrect = df[df[\"onSurfaceRef\"] != df[\"onSurfaceAct\"]]\n",
    "\n",
    "    f = 1\n",
    "    onSurfaceRef = onSurfaceRef.iloc[::f, :]\n",
    "    onSurfaceAct = onSurfaceAct.iloc[::f, :]\n",
    "    onSurfaceCorrect = onSurfaceCorrect.iloc[::f, :]\n",
    "    onSurfaceIncorrect = onSurfaceIncorrect.iloc[::f, :]\n",
    "\n",
    "    ax.set_xlabel(\"$l_x$\")\n",
    "    ax.set_ylabel(\"$l_y$\")\n",
    "    \n",
    "    ref_corners = list(map(float, df.iloc[0][\"ref_corners\"].split(\",\")))\n",
    "    act_corners = list(map(float, df.iloc[0][\"act_corners\"].split(\",\")))\n",
    "    phiS = df.iloc[0][\"phiS\"]\n",
    "    O_x = df.iloc[0][\"Ox\"]\n",
    "    O_y = df.iloc[0][\"Oy\"]\n",
    "    \n",
    "    def minmax(a, amin, amax):\n",
    "        return min(a, amin), max(a, amax)\n",
    "    \n",
    "    xmin, xmax = 1e12, -1e12\n",
    "    ymin, ymax = 1e12, -1e12, \n",
    "    \n",
    "    xmin, xmax = minmax(O_x, xmin, xmax)\n",
    "    ymin, ymax = minmax(O_y, ymin, ymax)\n",
    "    \n",
    "    ppoints = []\n",
    "    for j in range(3):\n",
    "        ppoints.append(sp.Point3D(df.iloc[j][\"globx\"], df.iloc[j][\"globy\"], df.iloc[j][\"globz\"]))\n",
    "    plane = sp.Plane(*ppoints)\n",
    "    \n",
    "    def draw(corners, color, n=0, rot=0, offset=(0, 0)):\n",
    "        nonlocal xmin, xmax, ymin, ymax\n",
    "        points_xyz = list(zip(corners[0::3], corners[1::3], corners[2::3]))\n",
    "        points_xy = [(x, y) for x, y, z in points_xyz]\n",
    "        \n",
    "        points_xy = points_xy[n:] + points_xy[:n]\n",
    "        \n",
    "        # rotate the corners into local system so we can compare\n",
    "        for idx in range(len(points_xy)):\n",
    "            p_orig = Point(points_xy[idx])\n",
    "            p_moved = Point(p_orig.x + offset[0], p_orig.y + offset[1])\n",
    "            p_rotated = affinity.rotate(p_moved, rot, origin=(0, 0))\n",
    "            points_xy[idx] = (p_rotated.x, p_rotated.y)\n",
    "            \n",
    "        \n",
    "        \n",
    "        l = LineString(points_xy + points_xy[0:1])\n",
    "        poly = Polygon(points_xy)\n",
    "        \n",
    "        left_line = sp.Line(points_xy[0], points_xy[1])\n",
    "        right_line = sp.Line(points_xy[2], points_xy[3])\n",
    "        \n",
    "        ax.plot(*LineString(points_xy[:2]).xy, \"o\", c=color)\n",
    "        ax.plot(*LineString(points_xy[2:]).xy, \"o\", c=color, markerfacecolor=\"none\")\n",
    "        \n",
    "        points_xy = list(map(lambda xy: Vec2(*xy), points_xy))\n",
    "        \n",
    "        right_dir = (points_xy[0] - points_xy[1]).normalized()\n",
    "        left_dir = (points_xy[3] - points_xy[2]).normalized()\n",
    "        \n",
    "        ix = intersection(left_line, right_line)[0].n()\n",
    "        xmin, xmax = minmax(ix.x, xmin, xmax)\n",
    "        ymin, ymax = minmax(ix.y, ymin, ymax)\n",
    "        ix = ix.x, ix.y\n",
    "        ax.plot(*ix, \"x\", c=color)\n",
    "        \n",
    "        dminl, dmaxl = -20, 20\n",
    "        dminr, dmaxr = dminl, dmaxl\n",
    "        ax.plot(*LineString([ix, points_xy[0]]).xy, \"--\", c=color)\n",
    "        ax.plot(*LineString([ix, points_xy[3]]).xy, \"--\", c=color)\n",
    "        \n",
    "        for p in points_xy[0], points_xy[3]:\n",
    "            xmin, xmax = minmax(p[0], xmin, xmax)\n",
    "            ymin, ymax = minmax(p[1], ymin, ymax)\n",
    "                \n",
    "        ax.add_patch(PolygonPatch(poly, alpha=.1, fill=True, linewidth=0, fc=color))\n",
    "        \n",
    "        O = Vec2(0, 0)\n",
    "        ax.plot(*O.xy, \"o\", c=color)\n",
    "        c_in = Point(O.x, O.y).buffer((points_xy[1] - O).norm)\n",
    "        c_out = Point(O.x, O.y).buffer((points_xy[0] - O).norm)\n",
    "        ax.plot(*c_in.exterior.xy, \"--\", c=color)\n",
    "        ax.plot(*c_out.exterior.xy, \"--\", c=color)\n",
    "\n",
    "    draw(ref_corners, color=\"g\")\n",
    "    draw(act_corners, color=\"r\", n=2, rot=90-phiS/pi*180, offset=(-O_x, -O_y))\n",
    "    \n",
    "    for idx, row in onSurfaceCorrect.iterrows():\n",
    "        xmin, xmax = minmax(row[\"locx\"], xmin, xmax)\n",
    "        ymin, ymax = minmax(row[\"locy\"], ymin, ymax)\n",
    "    \n",
    "    ax.scatter(onSurfaceCorrect[\"locx\"], onSurfaceCorrect[\"locy\"], color=\"green\", label=\"correct\")\n",
    "    ax.scatter(onSurfaceIncorrect[\"locx\"], onSurfaceIncorrect[\"locy\"], color=\"red\", label=\"incorrect\")\n",
    "    \n",
    "    if onSurfaceIncorrect.size == 0:\n",
    "        ax.text(0.02, 0.97, \"full match!\", fontsize=12, transform=ax.transAxes, color=\"green\")\n",
    "    else:\n",
    "        ax.text(0.02, 0.97, \"mismatch!\", fontsize=12, transform=ax.transAxes, color=\"red\")\n",
    "    \n",
    "    brect = Polygon([(xmin, ymin), (xmin, ymax), (xmax, ymax), (xmax, ymin)])\n",
    "    xmin, ymin, xmax, ymax = brect.buffer(0.5).exterior.bounds\n",
    "    \n",
    "    ax.set_xlim(xmin, xmax)\n",
    "    ax.set_ylim(ymin, ymax)\n",
    "\n",
    "nplots = 20\n",
    "prog = tqdm(total=nplots, leave=False)\n",
    "js = range(0, dfcmpsrf[\"nr\"].max()+1, 1)[:nplots]\n",
    "gx = 4\n",
    "gy = ceil((len(js)+1) / gx)\n",
    "figw = 17\n",
    "figh = gy/gx * figw\n",
    "fig = plt.figure(figsize=(figw, figh))\n",
    "for idx, j in enumerate(js):\n",
    "    ax = fig.add_subplot(gy, gx, idx+1, aspect=1)\n",
    "    df = dfcmpsrf[dfcmpsrf[\"nr\"] == j]\n",
    "    do_nr(ax, df, j)\n",
    "    prog.update()\n",
    "\n",
    "prog.close()\n",
    "plt.show()"
   ]
  },
  {
   "cell_type": "markdown",
   "metadata": {},
   "source": [
    "The plots above show the test points for the instances in local coordinates. The shapes of the modules are irregular and random as expected. The green points are agreed upon by both implementations, the red ones are incorrect. There are no red points visible.\n",
    "\n",
    "This indicates that the translation `AnnulusBounds@PlaneSurface` $\\to$ `AnnulusBoundsPC@DiscSurface` is reliable."
   ]
  }
 ],
 "metadata": {
  "kernelspec": {
   "display_name": "Python 3",
   "language": "python",
   "name": "python3"
  },
  "language_info": {
   "codemirror_mode": {
    "name": "ipython",
    "version": 3
   },
   "file_extension": ".py",
   "mimetype": "text/x-python",
   "name": "python",
   "nbconvert_exporter": "python",
   "pygments_lexer": "ipython3",
   "version": "3.6.6"
  }
 },
 "nbformat": 4,
 "nbformat_minor": 2
}
